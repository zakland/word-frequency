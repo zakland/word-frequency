{
 "cells": [
  {
   "cell_type": "markdown",
   "id": "3a91364d-f585-4a25-b36f-151800f36b50",
   "metadata": {},
   "source": [
    "Word Frequency\n"
   ]
  },
  {
   "cell_type": "code",
   "execution_count": 2,
   "id": "9592baef-f45f-4b19-9a59-ddd27392c841",
   "metadata": {},
   "outputs": [],
   "source": [
    "my_str = \"hello, ini string saya\""
   ]
  },
  {
   "cell_type": "code",
   "execution_count": 3,
   "id": "51e074f2-52c3-4a35-b8c2-4224e7437004",
   "metadata": {},
   "outputs": [
    {
     "name": "stdout",
     "output_type": "stream",
     "text": [
      "hello, ini string saya\n"
     ]
    }
   ],
   "source": [
    "print(my_str)"
   ]
  },
  {
   "cell_type": "code",
   "execution_count": null,
   "id": "03cfc716-3833-4731-92cd-a050c256ea4a",
   "metadata": {},
   "outputs": [],
   "source": []
  }
 ],
 "metadata": {
  "kernelspec": {
   "display_name": "Python 3 (ipykernel)",
   "language": "python",
   "name": "python3"
  },
  "language_info": {
   "codemirror_mode": {
    "name": "ipython",
    "version": 3
   },
   "file_extension": ".py",
   "mimetype": "text/x-python",
   "name": "python",
   "nbconvert_exporter": "python",
   "pygments_lexer": "ipython3",
   "version": "3.9.7"
  }
 },
 "nbformat": 4,
 "nbformat_minor": 5
}
