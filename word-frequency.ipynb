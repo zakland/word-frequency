{
 "cells": [
  {
   "cell_type": "code",
   "execution_count": null,
   "id": "8dcf2054-4e34-4b7e-9068-d7ae121dbcf9",
   "metadata": {},
   "outputs": [],
   "source": [
    "from utils import counter"
   ]
  },
  {
   "cell_type": "code",
   "execution_count": 59,
   "id": "c2456a82-5865-4ace-a474-8d2c89124997",
   "metadata": {},
   "outputs": [],
   "source": [
    "with open('text.txt', 'r') as reader:\n",
    "     words = map(counter.count_words, reader.readlines())"
   ]
  },
  {
   "cell_type": "code",
   "execution_count": 60,
   "id": "f282dd80-291e-436a-a7ca-4c3de2c58a6b",
   "metadata": {},
   "outputs": [],
   "source": [
    "total_counts = reduce(counter.combine_counts, words)"
   ]
  },
  {
   "cell_type": "code",
   "execution_count": 82,
   "id": "8f9763b2-939a-4198-a6dd-87f586c46c7f",
   "metadata": {},
   "outputs": [],
   "source": [
    "my_file = open('hasil.txt','w+')\n",
    "for w, c in sorted(total_counts.items(), key=lambda c: c[1], reverse=True):\n",
    "#     print(f'{w},{c}')\n",
    "#     my_file.write(f'{w},{c}'+\"\\n\")\n",
    "    my_file.write(w)\n",
    "# print(f'{w},{c}')\n",
    "my_file.close() "
   ]
  },
  {
   "cell_type": "code",
   "execution_count": null,
   "id": "65271b83-41ff-4260-9f25-a6bcc6810502",
   "metadata": {},
   "outputs": [],
   "source": []
  },
  {
   "cell_type": "code",
   "execution_count": null,
   "id": "d1f2f7b4-fcb7-4136-8c46-fe69ebf0ed3b",
   "metadata": {},
   "outputs": [],
   "source": []
  }
 ],
 "metadata": {
  "kernelspec": {
   "display_name": "Python 3 (ipykernel)",
   "language": "python",
   "name": "python3"
  },
  "language_info": {
   "codemirror_mode": {
    "name": "ipython",
    "version": 3
   },
   "file_extension": ".py",
   "mimetype": "text/x-python",
   "name": "python",
   "nbconvert_exporter": "python",
   "pygments_lexer": "ipython3",
   "version": "3.9.7"
  }
 },
 "nbformat": 4,
 "nbformat_minor": 5
}
